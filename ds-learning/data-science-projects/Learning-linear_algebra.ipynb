{
 "cells": [
  {
   "cell_type": "code",
   "execution_count": 4,
   "metadata": {},
   "outputs": [
    {
     "name": "stdout",
     "output_type": "stream",
     "text": [
      "(3,)\n",
      "(3,)\n",
      "(1, 3)\n",
      "(3, 1)\n",
      "3\n",
      "3\n"
     ]
    }
   ],
   "source": [
    "import numpy as np # Orienation in Numpy is given by brackets, ouutermost bracket \n",
    "asList = [1,2,3]\n",
    "asArray = np.array([1,2,3]) #1D vector orientationless array\n",
    "rowVec = np.array([[1,2,3]]) # row vector\n",
    "colVec = np.array([[1],[2],[3]]) # column vector\n",
    "print(np.shape(asArray))\n",
    "print(asArray.shape) # same as above\n",
    "print(np.shape(rowVec)) # row orientation (row, column)\n",
    "print(np.shape(colVec)) # column orientation\n",
    "print(len(asArray)) \n",
    "print(len(colVec))"
   ]
  },
  {
   "cell_type": "code",
   "execution_count": 7,
   "metadata": {},
   "outputs": [
    {
     "name": "stdout",
     "output_type": "stream",
     "text": [
      "[ 7 12 11]\n"
     ]
    },
    {
     "ename": "ValueError",
     "evalue": "operands could not be broadcast together with shapes (3,) (4,) ",
     "output_type": "error",
     "traceback": [
      "\u001b[0;31m---------------------------------------------------------------------------\u001b[0m",
      "\u001b[0;31mValueError\u001b[0m                                Traceback (most recent call last)",
      "\u001b[1;32m/Users/pulin05/ds-learn-git-hub/ds-learn-hub/ds-learning/data-science-projects/Learning-linear_algebra.ipynb Cell 2\u001b[0m in \u001b[0;36m<cell line: 7>\u001b[0;34m()\u001b[0m\n\u001b[1;32m      <a href='vscode-notebook-cell:/Users/pulin05/ds-learn-git-hub/ds-learn-hub/ds-learning/data-science-projects/Learning-linear_algebra.ipynb#W1sZmlsZQ%3D%3D?line=4'>5</a>\u001b[0m u \u001b[39m=\u001b[39m np\u001b[39m.\u001b[39marray([\u001b[39m3\u001b[39m,\u001b[39m5\u001b[39m,\u001b[39m8\u001b[39m,\u001b[39m10\u001b[39m])\n\u001b[1;32m      <a href='vscode-notebook-cell:/Users/pulin05/ds-learn-git-hub/ds-learn-hub/ds-learning/data-science-projects/Learning-linear_algebra.ipynb#W1sZmlsZQ%3D%3D?line=5'>6</a>\u001b[0m \u001b[39mprint\u001b[39m(v\u001b[39m+\u001b[39mw)\n\u001b[0;32m----> <a href='vscode-notebook-cell:/Users/pulin05/ds-learn-git-hub/ds-learn-hub/ds-learning/data-science-projects/Learning-linear_algebra.ipynb#W1sZmlsZQ%3D%3D?line=6'>7</a>\u001b[0m \u001b[39mprint\u001b[39m(w\u001b[39m+\u001b[39;49mu)\n",
      "\u001b[0;31mValueError\u001b[0m: operands could not be broadcast together with shapes (3,) (4,) "
     ]
    }
   ],
   "source": [
    "# Addition of vectors\n",
    "import numpy as np\n",
    "v = np.array([4,7,3])\n",
    "w = np.array([3,5,8])\n",
    "u = np.array([3,5,8,10])\n",
    "print(v+w)\n",
    "#print(w+u) # error not same dimension"
   ]
  },
  {
   "cell_type": "code",
   "execution_count": 4,
   "metadata": {},
   "outputs": [
    {
     "name": "stdout",
     "output_type": "stream",
     "text": [
      "[[ 7 10  6]\n",
      " [ 9 12  8]\n",
      " [12 15 11]]\n"
     ]
    }
   ],
   "source": [
    "# broadcasting exist in python, not exist in linear algebra. Add row vector to column vector with same dimensions\n",
    "# Broadcasting essentially means to repeat an operation multiple times between one\n",
    "#vector and each element of another vector.\n",
    "v = np.array([[4,7,3]]) # row vector\n",
    "w = np.array([[3,5,8]]).T # column vector\n",
    "print(v+w)"
   ]
  },
  {
   "cell_type": "code",
   "execution_count": 6,
   "metadata": {},
   "outputs": [
    {
     "name": "stdout",
     "output_type": "stream",
     "text": [
      "5\n",
      "12.0\n"
     ]
    }
   ],
   "source": [
    "v = np.array([1,2,3,7,9])\n",
    "print(len(v)) # maths dimensionality\n",
    "print(np.linalg.norm(v)) # maths magnitude, length, norm"
   ]
  },
  {
   "cell_type": "code",
   "execution_count": null,
   "metadata": {},
   "outputs": [],
   "source": []
  }
 ],
 "metadata": {
  "kernelspec": {
   "display_name": "Python 3",
   "language": "python",
   "name": "python3"
  },
  "language_info": {
   "codemirror_mode": {
    "name": "ipython",
    "version": 3
   },
   "file_extension": ".py",
   "mimetype": "text/x-python",
   "name": "python",
   "nbconvert_exporter": "python",
   "pygments_lexer": "ipython3",
   "version": "3.9.1"
  },
  "orig_nbformat": 4,
  "vscode": {
   "interpreter": {
    "hash": "aee8b7b246df8f9039afb4144a1f6fd8d2ca17a180786b69acc140d282b71a49"
   }
  }
 },
 "nbformat": 4,
 "nbformat_minor": 2
}

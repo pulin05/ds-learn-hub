{
 "cells": [
  {
   "cell_type": "markdown",
   "metadata": {},
   "source": []
  },
  {
   "cell_type": "markdown",
   "metadata": {},
   "source": [
    "## Introduction\n",
    "* NumPy is the core library for scientific computing in Python. It is informally known as the swiss army knife of the data scientist.\n",
    "* It provides a high-performance multidimensional array object numpy.ndarray, and tools for operating on these arrays."
   ]
  },
  {
   "cell_type": "markdown",
   "metadata": {},
   "source": [
    "## Arrays\n",
    "* A NumPy array is a grid of values, all of the same data type, and is indexed by a tuple of non-negative integers.\n",
    "* The __rank__ of an array is the number of dimensions it contains. For matrix rank = 2\n",
    "* The shape of an array is a tuple of integers giving the size of the array along each dimension.\n",
    "For matrix (row, column)\n",
    "* The size of an array is the number of elements it contains (which is equivalent to np.prod(<ndarray>.shape), i.e., the product of the array’s dimensions).\n",
    "* We can initialize NumPy arrays from (nested) lists and tuples, and access elements using square brackets as array subscripts (similar to lists in Python)."
   ]
  },
  {
   "cell_type": "markdown",
   "metadata": {},
   "source": [
    "* The concept of rows and columns applies when you have a 2D array. However, the array numpy.array([1,2,3,4]) is a 1D array and so has only one dimension, therefore shape rightly returns a single valued iterable.\n",
    "Here in this case it will be 4"
   ]
  },
  {
   "cell_type": "code",
   "execution_count": 9,
   "metadata": {},
   "outputs": [
    {
     "name": "stdout",
     "output_type": "stream",
     "text": [
      "<class 'numpy.ndarray'>\n",
      "(3,)\n",
      "1\n",
      "3\n",
      "1 2 3\n",
      "[5 2 3]\n",
      "(1, 3)\n",
      "3\n",
      "2\n",
      "(2, 3)\n",
      "6\n",
      "1 2 4\n",
      "[1 2 3]\n",
      "(3,)\n",
      "[[1 2 3]\n",
      " [4 5 6]]\n",
      "[[1 2 3]\n",
      " [1 2 3]\n",
      " [1 2 3]]\n",
      "[[1 2 3]\n",
      " [1 2 3]\n",
      " [1 2 3]]\n"
     ]
    }
   ],
   "source": [
    "import numpy as np\n",
    "\n",
    "a = np.array([1, 2, 3])              # Define a rank 1 array using a list\n",
    "print(type(a))                       # Prints <class 'numpy.ndarray'>\n",
    "print(a.shape)                       # Prints (3,)\n",
    "print(a.ndim)                        # Prints 1 (the rank of the array); equivalent to \"len(a.shape)\"\n",
    "print(a.size)                        # Prints 3; equivalent to \"np.prod(a.shape)\"\n",
    "print(a[0], a[1], a[2])              # Prints (1, 2, 3)\n",
    "a[0] = 5                             # Change an element of the array\n",
    "print(a)                             # Prints [5 2 3]\n",
    "\n",
    "b = np.array([[1, 2, 3]])            # Define a rank 2 array (vector) using a nested list\n",
    "print(b.shape)                       # Prints (1, 3)\n",
    "print(b.size)                        # Prints 3\n",
    "print(b.ndim)                        \n",
    "\n",
    "c = np.array([[1, 2, 3], [4, 5, 6]]) # Define a rank 2 array (matrix) using a nested list\n",
    "print(c.shape)                       # Prints (2, 3)\n",
    "print(c.size)                        # Prints 6\n",
    "print(c[0, 0], c[0, 1], c[1, 0])     # Prints (1, 2, 4)\n",
    "\n",
    "d = np.array((1, 2, 3))              # Define a rank 1 array using a tuple\n",
    "print(d)                             # Prints [1 2 3]\n",
    "print(d.shape)                       # Prints (3,)\n",
    "\n",
    "e = np.array(((1, 2, 3), (4, 5, 6))) # Define a rank 2 array using a nested tuple\n",
    "print(e)                             # Prints [[1, 2, 3]\n",
    "                                     #         [4, 5, 6]]\n",
    "                                     \n",
    "# f = np.array([[1, 2, 3], [4, 5]])    # Define a rank 2 array using *** Update Numpy won't support this now\n",
    "# print(f)                             # Prints [list([1, 2, 3]) list([4, 5])]\n",
    "\n",
    "# NumPy arrays can be initialized using other NumPy arrays or lists\n",
    "# but note that the resulting matrix is always of type NumPy ndarray\n",
    "l = [1, 2, 3]                        # Define a python list\n",
    "g = np.array([l, l, l])              # Matrix initialized with lists\n",
    "a = np.array([1, 2, 3])              # Define a NumPy array by passing in a list\n",
    "h = np.array([a, a, a])              # Matrix initialized with NumPy arrays\n",
    "# i = np.array([a, [1, 2, 3], g])      # Matrix initialized with both types\n",
    "\n",
    "# All the below statements print [[1 2 3]\n",
    "#                                 [1 2 3]\n",
    "#                                 [1 2 3]]\n",
    "print(g)\n",
    "print(h)\n",
    "# print(i)"
   ]
  },
  {
   "cell_type": "markdown",
   "metadata": {},
   "source": [
    "Note the difference between a Python list and a NumPy array. NumPy arrays are designed for numerical (vector/matrix) operations, while lists are for more general purposes."
   ]
  },
  {
   "cell_type": "code",
   "execution_count": 10,
   "metadata": {},
   "outputs": [
    {
     "name": "stdout",
     "output_type": "stream",
     "text": [
      "[1, 2, 3]\n",
      "[1 2 3]\n",
      "<class 'list'>\n",
      "<class 'numpy.ndarray'>\n"
     ]
    }
   ],
   "source": [
    "import numpy as np\n",
    "\n",
    "l = [1, 2, 3]           # Define a python list\n",
    "a = np.array([1, 2, 3]) # Define a numpy array by passing in a list\n",
    "print(l)                # Prints [1 2 3]\n",
    "print(a)                # Prints [1 2 3]\n",
    "\n",
    "print(type(l))          # Prints <class 'list'>\n",
    "print(type(a))          # Prints <class 'numpy.ndarray'>"
   ]
  },
  {
   "cell_type": "markdown",
   "metadata": {},
   "source": [
    "* Note that when defining an array, be sure that all the rows contain the same number of columns/elements. Otherwise, algebraic operations on malformed matrices could lead to unexpected results:"
   ]
  },
  {
   "cell_type": "code",
   "execution_count": 11,
   "metadata": {},
   "outputs": [
    {
     "name": "stdout",
     "output_type": "stream",
     "text": [
      "[[2 4]\n",
      " [6 8]]\n"
     ]
    },
    {
     "ename": "ValueError",
     "evalue": "setting an array element with a sequence. The requested array has an inhomogeneous shape after 1 dimensions. The detected shape was (3,) + inhomogeneous part.",
     "output_type": "error",
     "traceback": [
      "\u001b[0;31m---------------------------------------------------------------------------\u001b[0m",
      "\u001b[0;31mValueError\u001b[0m                                Traceback (most recent call last)",
      "Cell \u001b[0;32mIn[11], line 10\u001b[0m\n\u001b[1;32m      6\u001b[0m \u001b[38;5;28mprint\u001b[39m(a \u001b[38;5;241m*\u001b[39m \u001b[38;5;241m2\u001b[39m)                   \u001b[38;5;66;03m# Prints [[2 4]\u001b[39;00m\n\u001b[1;32m      7\u001b[0m                                \u001b[38;5;66;03m#         [6 8]]\u001b[39;00m\n\u001b[1;32m      8\u001b[0m \n\u001b[1;32m      9\u001b[0m \u001b[38;5;66;03m# Define a malformed matrix. Note the third row contains 3 elements, while other rows contain 2 elements\u001b[39;00m\n\u001b[0;32m---> 10\u001b[0m b \u001b[38;5;241m=\u001b[39m \u001b[43mnp\u001b[49m\u001b[38;5;241;43m.\u001b[39;49m\u001b[43marray\u001b[49m\u001b[43m(\u001b[49m\u001b[43m[\u001b[49m\u001b[43m[\u001b[49m\u001b[38;5;241;43m1\u001b[39;49m\u001b[43m,\u001b[49m\u001b[43m \u001b[49m\u001b[38;5;241;43m2\u001b[39;49m\u001b[43m]\u001b[49m\u001b[43m,\u001b[49m\u001b[43m \u001b[49m\u001b[43m[\u001b[49m\u001b[38;5;241;43m3\u001b[39;49m\u001b[43m,\u001b[49m\u001b[43m \u001b[49m\u001b[38;5;241;43m4\u001b[39;49m\u001b[43m]\u001b[49m\u001b[43m,\u001b[49m\u001b[43m \u001b[49m\u001b[43m[\u001b[49m\u001b[38;5;241;43m5\u001b[39;49m\u001b[43m,\u001b[49m\u001b[43m \u001b[49m\u001b[38;5;241;43m6\u001b[39;49m\u001b[43m,\u001b[49m\u001b[43m \u001b[49m\u001b[38;5;241;43m7\u001b[39;49m\u001b[43m]\u001b[49m\u001b[43m]\u001b[49m\u001b[43m)\u001b[49m\n\u001b[1;32m     12\u001b[0m \u001b[38;5;66;03m# Print the malformed matrix\u001b[39;00m\n\u001b[1;32m     13\u001b[0m \u001b[38;5;28mprint\u001b[39m(b)                       \u001b[38;5;66;03m# Prints [list([1, 2]) list([3, 4]) list([5, 6, 7])]\u001b[39;00m\n",
      "\u001b[0;31mValueError\u001b[0m: setting an array element with a sequence. The requested array has an inhomogeneous shape after 1 dimensions. The detected shape was (3,) + inhomogeneous part."
     ]
    }
   ],
   "source": [
    "import numpy as np\n",
    "\n",
    "a = np.array([[1, 2], [3, 4]]) # Define a 2x2 matrix\n",
    "\n",
    "# Print a scaled version of 'a', more on this in the section on \"scaling and translating arrays\" below\n",
    "print(a * 2)                   # Prints [[2 4]\n",
    "                               #         [6 8]]\n",
    "\n",
    "# Define a malformed matrix. Note the third row contains 3 elements, while other rows contain 2 elements\n",
    "b = np.array([[1, 2], [3, 4], [5, 6, 7]]) ## *** Update Numpy won't support this now\n",
    "\n",
    "# Print the malformed matrix *** Update Numpy won't support this now\n",
    "print(b)                       # Prints [list([1, 2]) list([3, 4]) list([5, 6, 7])]\n",
    "\n",
    "# Supposed to scale the whole matrix but does *not*\n",
    "print(b * 2)                   # Prints [list([1, 2, 1, 2]) list([3, 4, 3, 4]) list([5, 6, 7, 5, 6, 7])]"
   ]
  },
  {
   "cell_type": "markdown",
   "metadata": {},
   "source": [
    "NumPy also provides many functions to create arrays:"
   ]
  },
  {
   "cell_type": "code",
   "execution_count": 12,
   "metadata": {},
   "outputs": [
    {
     "name": "stdout",
     "output_type": "stream",
     "text": [
      "[]\n",
      "(0,)\n",
      "[[0. 0.]\n",
      " [0. 0.]]\n",
      "[[1. 1.]]\n",
      "[[7 7]\n",
      " [7 7]]\n",
      "[[1. 0.]\n",
      " [0. 1.]]\n",
      "[[1. 0.]\n",
      " [0. 1.]]\n",
      "[[4607182418800017408                   0]\n",
      " [                  0 4607182418800017408]]\n",
      "[[0.43144633 0.46314612]\n",
      " [0.70299926 0.97130623]]\n",
      "[[-0.87075935 -1.05631056]\n",
      " [-2.86631501 -0.89623609]]\n",
      "[[-1.74472418 -0.77521363]\n",
      " [ 0.65003109 -1.37293359]]\n",
      "[[ 2.69753526 -0.73534643]\n",
      " [-1.50194462  2.10914972]]\n"
     ]
    }
   ],
   "source": [
    "import numpy as np\n",
    "\n",
    "a = np.array([])                            # Define an empty array\n",
    "print(a)                                    # Prints array([], dtype=float64)\n",
    "print(a.shape)                              # Prints (0,)\n",
    "\n",
    "b = np.zeros((2, 2))                        # Define an array of all zeros\n",
    "print(b)                                    # Prints [[ 0.  0.]\n",
    "                                            #         [ 0.  0.]]\n",
    "\n",
    "c = np.ones((1, 2))                         # Define an array of all ones\n",
    "print(c)                                    # Prints [[ 1.  1.]]\n",
    "\n",
    "d = np.full((2, 2), 7)                      # Define a constant array\n",
    "print(d)                                    # Prints [[ 7.  7.]\n",
    "                                            #         [ 7.  7.]]\n",
    "\n",
    "e = np.eye(2)                               # Define a 2x2 identity matrix\n",
    "print(e)                                    # Prints [[ 1.  0.]\n",
    "                                            #         [ 0.  1.]]\n",
    "                                            \n",
    "f = np.empty((2, 2))                        # Define a float array without initializing entries\n",
    "print(f)                                    # Prints [[1.13224202e+277 1.94241498e-109]\n",
    "                                            #         [4.94065646e-323 0.00000000e+000]]\n",
    "\n",
    "g = np.empty((2, 2), dtype=int)             # Define an int array without initializing entries  \n",
    "print(g)                                    # Prints [[8751743591039004782 2980593642150976296]   \n",
    "                                            #         [                 10                   0]]\n",
    "\n",
    "h = np.random.random((2, 2))                # Define a 2x2 matrix from the uniform distribution [0, 1)\n",
    "print(h)                                    # Prints a 2x2 matrix of random values \n",
    "\n",
    "i = 5 * np.random.random_sample((2, 2)) - 5 # Sample 2x2 matrix from Unif[-5, 0)\n",
    "                                            # Sample from Unif[a, b), b > a: (b - a) * random_sample() + a\n",
    "print(i)                                    # Prints a 2x2 matrix of random values \n",
    "\n",
    "j = np.random.randn(2, 2)                   # Sample a 2x2 matrix from the standard normal distribution\n",
    "print(j)                                    # Prints a 2x2 matrix of random values \n",
    "\n",
    "k = 2.5 * np.random.randn(2, 2) + 3         # Sample 2x2 matrix from N(mean=3, var=6.25)\n",
    "                                            # General form: stddev * np.random.randn(...) + mean\n",
    "print(k)                                    # Prints a 2x2 matrix of random values "
   ]
  },
  {
   "cell_type": "markdown",
   "metadata": {},
   "source": [
    "* Note that with np.random.randn(), the length of each dimension of the output array is an individual argument. On the other hand, np.random.random() accepts its shape argument as a single tuple containing all dimensions. More on this in the section on standard normal.\n",
    "\n",
    "* To create a new array with the same shape and type as a given array, NumPy offers the following methods:"
   ]
  },
  {
   "cell_type": "code",
   "execution_count": 15,
   "metadata": {},
   "outputs": [
    {
     "name": "stdout",
     "output_type": "stream",
     "text": [
      "(2, 3)\n",
      "(2, 3)\n",
      "(1, 2, 3)\n",
      "(1, 2, 3)\n",
      "[[[1. 1. 1.]\n",
      "  [1. 1. 1.]]]\n",
      "[[[1. 1. 1.]\n",
      "  [1. 1. 1.]]]\n"
     ]
    }
   ],
   "source": [
    "a = ([1, 2, 3], [4, 5, 6]) # Python list\n",
    "# print(a.shape) ### Tuple has no attribute 'shape'\n",
    "\n",
    "b = np.empty_like(a)\n",
    "# Uninitialized array\n",
    "# array([[-1073741821, -1073741821,           3],\n",
    "#        [          0,           0, -1073741821]])\n",
    "print(b.shape)             # Prints (2, 3)\n",
    "\n",
    "c = np.array([[1., 2., 3.], [4., 5., 6.]])\n",
    "d = np.empty_like(c)\n",
    "# Uninitialized array\n",
    "# array([[ -2.00000715e+000,   1.48219694e-323,  -2.00000572e+000], # uninitialized\n",
    "#        [  4.38791518e-305,  -2.00000715e+000,   4.17269252e-309]])\n",
    "print(d.shape)             # Prints (2, 3)\n",
    "\n",
    "# Note the difference between np.ones() and np.ones_like() below.\n",
    "# np.ones():      Return a new array of given shape and type, filled with ones.\n",
    "# np.ones_like(): Return a new array with the same shape and type as a given array, filled with ones.\n",
    "e = np.ones((1, 2, 3))\n",
    "f = np.ones_like(e)\n",
    "# array([[[ 1.,  1.,  1.],\n",
    "#         [ 1.,  1.,  1.]]])\n",
    "print(e.shape) # Prints (1, 2, 3)\n",
    "print(f.shape) # Prints (1, 2, 3)\n",
    "print(e)\n",
    "print(f)"
   ]
  },
  {
   "cell_type": "markdown",
   "metadata": {},
   "source": [
    "### Citation\n",
    "\n",
    "@article{Chadha2020NumPyPrimer,\n",
    "  title   = {NumPy Primer},\n",
    "  author  = {Chadha, Aman},\n",
    "  journal = {Distilled AI},\n",
    "  year    = {2020},\n",
    "  note    = {\\url{https://aman.ai}}\n",
    "}"
   ]
  }
 ],
 "metadata": {
  "kernelspec": {
   "display_name": "v_env",
   "language": "python",
   "name": "python3"
  },
  "language_info": {
   "codemirror_mode": {
    "name": "ipython",
    "version": 3
   },
   "file_extension": ".py",
   "mimetype": "text/x-python",
   "name": "python",
   "nbconvert_exporter": "python",
   "pygments_lexer": "ipython3",
   "version": "3.11.8"
  }
 },
 "nbformat": 4,
 "nbformat_minor": 2
}

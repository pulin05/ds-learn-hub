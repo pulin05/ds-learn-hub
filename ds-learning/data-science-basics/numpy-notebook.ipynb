{
 "cells": [
  {
   "cell_type": "markdown",
   "metadata": {},
   "source": []
  },
  {
   "cell_type": "markdown",
   "metadata": {},
   "source": [
    "##### Sourced from Aman.Ai\n",
    "## Introduction\n",
    "* NumPy is the core library for scientific computing in Python. It is informally known as the swiss army knife of the data scientist.\n",
    "* It provides a high-performance multidimensional array object numpy.ndarray, and tools for operating on these arrays."
   ]
  },
  {
   "cell_type": "markdown",
   "metadata": {},
   "source": [
    "## Arrays\n",
    "* A NumPy array is a grid of values, all of the same data type, and is indexed by a tuple of non-negative integers.\n",
    "* The __rank__ of an array is the number of dimensions it contains. For matrix rank = 2\n",
    "* The shape of an array is a tuple of integers giving the size of the array along each dimension.\n",
    "For matrix (row, column)\n",
    "* The size of an array is the number of elements it contains (which is equivalent to np.prod(<ndarray>.shape), i.e., the product of the array’s dimensions).\n",
    "* We can initialize NumPy arrays from (nested) lists and tuples, and access elements using square brackets as array subscripts (similar to lists in Python)."
   ]
  },
  {
   "cell_type": "markdown",
   "metadata": {},
   "source": [
    "* The concept of rows and columns applies when you have a 2D array. However, the array numpy.array([1,2,3,4]) is a 1D array and so has only one dimension, therefore shape rightly returns a single valued iterable.\n",
    "Here in this case it will be 4"
   ]
  },
  {
   "cell_type": "code",
   "execution_count": 9,
   "metadata": {},
   "outputs": [
    {
     "name": "stdout",
     "output_type": "stream",
     "text": [
      "<class 'numpy.ndarray'>\n",
      "(3,)\n",
      "1\n",
      "3\n",
      "1 2 3\n",
      "[5 2 3]\n",
      "(1, 3)\n",
      "3\n",
      "2\n",
      "(2, 3)\n",
      "6\n",
      "1 2 4\n",
      "[1 2 3]\n",
      "(3,)\n",
      "[[1 2 3]\n",
      " [4 5 6]]\n",
      "[[1 2 3]\n",
      " [1 2 3]\n",
      " [1 2 3]]\n",
      "[[1 2 3]\n",
      " [1 2 3]\n",
      " [1 2 3]]\n"
     ]
    }
   ],
   "source": [
    "import numpy as np\n",
    "\n",
    "a = np.array([1, 2, 3])              # Define a rank 1 array using a list\n",
    "print(type(a))                       # Prints <class 'numpy.ndarray'>\n",
    "print(a.shape)                       # Prints (3,)\n",
    "print(a.ndim)                        # Prints 1 (the rank of the array); equivalent to \"len(a.shape)\"\n",
    "print(a.size)                        # Prints 3; equivalent to \"np.prod(a.shape)\"\n",
    "print(a[0], a[1], a[2])              # Prints (1, 2, 3)\n",
    "a[0] = 5                             # Change an element of the array\n",
    "print(a)                             # Prints [5 2 3]\n",
    "\n",
    "b = np.array([[1, 2, 3]])            # Define a rank 2 array (vector) using a nested list\n",
    "print(b.shape)                       # Prints (1, 3)\n",
    "print(b.size)                        # Prints 3\n",
    "print(b.ndim)                        \n",
    "\n",
    "c = np.array([[1, 2, 3], [4, 5, 6]]) # Define a rank 2 array (matrix) using a nested list\n",
    "print(c.shape)                       # Prints (2, 3)\n",
    "print(c.size)                        # Prints 6\n",
    "print(c[0, 0], c[0, 1], c[1, 0])     # Prints (1, 2, 4)\n",
    "\n",
    "d = np.array((1, 2, 3))              # Define a rank 1 array using a tuple\n",
    "print(d)                             # Prints [1 2 3]\n",
    "print(d.shape)                       # Prints (3,)\n",
    "\n",
    "e = np.array(((1, 2, 3), (4, 5, 6))) # Define a rank 2 array using a nested tuple\n",
    "print(e)                             # Prints [[1, 2, 3]\n",
    "                                     #         [4, 5, 6]]\n",
    "                                     \n",
    "# f = np.array([[1, 2, 3], [4, 5]])    # Define a rank 2 array using *** Update Numpy won't support this now\n",
    "# print(f)                             # Prints [list([1, 2, 3]) list([4, 5])]\n",
    "\n",
    "# NumPy arrays can be initialized using other NumPy arrays or lists\n",
    "# but note that the resulting matrix is always of type NumPy ndarray\n",
    "l = [1, 2, 3]                        # Define a python list\n",
    "g = np.array([l, l, l])              # Matrix initialized with lists\n",
    "a = np.array([1, 2, 3])              # Define a NumPy array by passing in a list\n",
    "h = np.array([a, a, a])              # Matrix initialized with NumPy arrays\n",
    "# i = np.array([a, [1, 2, 3], g])      # Matrix initialized with both types\n",
    "\n",
    "# All the below statements print [[1 2 3]\n",
    "#                                 [1 2 3]\n",
    "#                                 [1 2 3]]\n",
    "print(g)\n",
    "print(h)\n",
    "# print(i)"
   ]
  },
  {
   "cell_type": "markdown",
   "metadata": {},
   "source": [
    "Note the difference between a Python list and a NumPy array. NumPy arrays are designed for numerical (vector/matrix) operations, while lists are for more general purposes."
   ]
  },
  {
   "cell_type": "code",
   "execution_count": 10,
   "metadata": {},
   "outputs": [
    {
     "name": "stdout",
     "output_type": "stream",
     "text": [
      "[1, 2, 3]\n",
      "[1 2 3]\n",
      "<class 'list'>\n",
      "<class 'numpy.ndarray'>\n"
     ]
    }
   ],
   "source": [
    "import numpy as np\n",
    "\n",
    "l = [1, 2, 3]           # Define a python list\n",
    "a = np.array([1, 2, 3]) # Define a numpy array by passing in a list\n",
    "print(l)                # Prints [1 2 3]\n",
    "print(a)                # Prints [1 2 3]\n",
    "\n",
    "print(type(l))          # Prints <class 'list'>\n",
    "print(type(a))          # Prints <class 'numpy.ndarray'>"
   ]
  },
  {
   "cell_type": "markdown",
   "metadata": {},
   "source": [
    "* Note that when defining an array, be sure that all the rows contain the same number of columns/elements. Otherwise, algebraic operations on malformed matrices could lead to unexpected results:"
   ]
  },
  {
   "cell_type": "code",
   "execution_count": 11,
   "metadata": {},
   "outputs": [
    {
     "name": "stdout",
     "output_type": "stream",
     "text": [
      "[[2 4]\n",
      " [6 8]]\n"
     ]
    },
    {
     "ename": "ValueError",
     "evalue": "setting an array element with a sequence. The requested array has an inhomogeneous shape after 1 dimensions. The detected shape was (3,) + inhomogeneous part.",
     "output_type": "error",
     "traceback": [
      "\u001b[0;31m---------------------------------------------------------------------------\u001b[0m",
      "\u001b[0;31mValueError\u001b[0m                                Traceback (most recent call last)",
      "Cell \u001b[0;32mIn[11], line 10\u001b[0m\n\u001b[1;32m      6\u001b[0m \u001b[38;5;28mprint\u001b[39m(a \u001b[38;5;241m*\u001b[39m \u001b[38;5;241m2\u001b[39m)                   \u001b[38;5;66;03m# Prints [[2 4]\u001b[39;00m\n\u001b[1;32m      7\u001b[0m                                \u001b[38;5;66;03m#         [6 8]]\u001b[39;00m\n\u001b[1;32m      8\u001b[0m \n\u001b[1;32m      9\u001b[0m \u001b[38;5;66;03m# Define a malformed matrix. Note the third row contains 3 elements, while other rows contain 2 elements\u001b[39;00m\n\u001b[0;32m---> 10\u001b[0m b \u001b[38;5;241m=\u001b[39m \u001b[43mnp\u001b[49m\u001b[38;5;241;43m.\u001b[39;49m\u001b[43marray\u001b[49m\u001b[43m(\u001b[49m\u001b[43m[\u001b[49m\u001b[43m[\u001b[49m\u001b[38;5;241;43m1\u001b[39;49m\u001b[43m,\u001b[49m\u001b[43m \u001b[49m\u001b[38;5;241;43m2\u001b[39;49m\u001b[43m]\u001b[49m\u001b[43m,\u001b[49m\u001b[43m \u001b[49m\u001b[43m[\u001b[49m\u001b[38;5;241;43m3\u001b[39;49m\u001b[43m,\u001b[49m\u001b[43m \u001b[49m\u001b[38;5;241;43m4\u001b[39;49m\u001b[43m]\u001b[49m\u001b[43m,\u001b[49m\u001b[43m \u001b[49m\u001b[43m[\u001b[49m\u001b[38;5;241;43m5\u001b[39;49m\u001b[43m,\u001b[49m\u001b[43m \u001b[49m\u001b[38;5;241;43m6\u001b[39;49m\u001b[43m,\u001b[49m\u001b[43m \u001b[49m\u001b[38;5;241;43m7\u001b[39;49m\u001b[43m]\u001b[49m\u001b[43m]\u001b[49m\u001b[43m)\u001b[49m\n\u001b[1;32m     12\u001b[0m \u001b[38;5;66;03m# Print the malformed matrix\u001b[39;00m\n\u001b[1;32m     13\u001b[0m \u001b[38;5;28mprint\u001b[39m(b)                       \u001b[38;5;66;03m# Prints [list([1, 2]) list([3, 4]) list([5, 6, 7])]\u001b[39;00m\n",
      "\u001b[0;31mValueError\u001b[0m: setting an array element with a sequence. The requested array has an inhomogeneous shape after 1 dimensions. The detected shape was (3,) + inhomogeneous part."
     ]
    }
   ],
   "source": [
    "import numpy as np\n",
    "\n",
    "a = np.array([[1, 2], [3, 4]]) # Define a 2x2 matrix\n",
    "\n",
    "# Print a scaled version of 'a', more on this in the section on \"scaling and translating arrays\" below\n",
    "print(a * 2)                   # Prints [[2 4]\n",
    "                               #         [6 8]]\n",
    "\n",
    "# Define a malformed matrix. Note the third row contains 3 elements, while other rows contain 2 elements\n",
    "b = np.array([[1, 2], [3, 4], [5, 6, 7]]) ## *** Update Numpy won't support this now\n",
    "\n",
    "# Print the malformed matrix *** Update Numpy won't support this now\n",
    "print(b)                       # Prints [list([1, 2]) list([3, 4]) list([5, 6, 7])]\n",
    "\n",
    "# Supposed to scale the whole matrix but does *not*\n",
    "print(b * 2)                   # Prints [list([1, 2, 1, 2]) list([3, 4, 3, 4]) list([5, 6, 7, 5, 6, 7])]"
   ]
  },
  {
   "cell_type": "markdown",
   "metadata": {},
   "source": [
    "NumPy also provides many functions to create arrays:"
   ]
  },
  {
   "cell_type": "code",
   "execution_count": 12,
   "metadata": {},
   "outputs": [
    {
     "name": "stdout",
     "output_type": "stream",
     "text": [
      "[]\n",
      "(0,)\n",
      "[[0. 0.]\n",
      " [0. 0.]]\n",
      "[[1. 1.]]\n",
      "[[7 7]\n",
      " [7 7]]\n",
      "[[1. 0.]\n",
      " [0. 1.]]\n",
      "[[1. 0.]\n",
      " [0. 1.]]\n",
      "[[4607182418800017408                   0]\n",
      " [                  0 4607182418800017408]]\n",
      "[[0.43144633 0.46314612]\n",
      " [0.70299926 0.97130623]]\n",
      "[[-0.87075935 -1.05631056]\n",
      " [-2.86631501 -0.89623609]]\n",
      "[[-1.74472418 -0.77521363]\n",
      " [ 0.65003109 -1.37293359]]\n",
      "[[ 2.69753526 -0.73534643]\n",
      " [-1.50194462  2.10914972]]\n"
     ]
    }
   ],
   "source": [
    "import numpy as np\n",
    "\n",
    "a = np.array([])                            # Define an empty array\n",
    "print(a)                                    # Prints array([], dtype=float64)\n",
    "print(a.shape)                              # Prints (0,)\n",
    "\n",
    "b = np.zeros((2, 2))                        # Define an array of all zeros\n",
    "print(b)                                    # Prints [[ 0.  0.]\n",
    "                                            #         [ 0.  0.]]\n",
    "\n",
    "c = np.ones((1, 2))                         # Define an array of all ones\n",
    "print(c)                                    # Prints [[ 1.  1.]]\n",
    "\n",
    "d = np.full((2, 2), 7)                      # Define a constant array\n",
    "print(d)                                    # Prints [[ 7.  7.]\n",
    "                                            #         [ 7.  7.]]\n",
    "\n",
    "e = np.eye(2)                               # Define a 2x2 identity matrix\n",
    "print(e)                                    # Prints [[ 1.  0.]\n",
    "                                            #         [ 0.  1.]]\n",
    "                                            \n",
    "f = np.empty((2, 2))                        # Define a float array without initializing entries\n",
    "print(f)                                    # Prints [[1.13224202e+277 1.94241498e-109]\n",
    "                                            #         [4.94065646e-323 0.00000000e+000]]\n",
    "\n",
    "g = np.empty((2, 2), dtype=int)             # Define an int array without initializing entries  \n",
    "print(g)                                    # Prints [[8751743591039004782 2980593642150976296]   \n",
    "                                            #         [                 10                   0]]\n",
    "\n",
    "h = np.random.random((2, 2))                # Define a 2x2 matrix from the uniform distribution [0, 1)\n",
    "print(h)                                    # Prints a 2x2 matrix of random values \n",
    "\n",
    "i = 5 * np.random.random_sample((2, 2)) - 5 # Sample 2x2 matrix from Unif[-5, 0)\n",
    "                                            # Sample from Unif[a, b), b > a: (b - a) * random_sample() + a\n",
    "print(i)                                    # Prints a 2x2 matrix of random values \n",
    "\n",
    "j = np.random.randn(2, 2)                   # Sample a 2x2 matrix from the standard normal distribution\n",
    "print(j)                                    # Prints a 2x2 matrix of random values \n",
    "\n",
    "k = 2.5 * np.random.randn(2, 2) + 3         # Sample 2x2 matrix from N(mean=3, var=6.25)\n",
    "                                            # General form: stddev * np.random.randn(...) + mean\n",
    "print(k)                                    # Prints a 2x2 matrix of random values "
   ]
  },
  {
   "cell_type": "markdown",
   "metadata": {},
   "source": [
    "* Note that with np.random.randn(), the length of each dimension of the output array is an individual argument. On the other hand, np.random.random() accepts its shape argument as a single tuple containing all dimensions. More on this in the section on standard normal.\n",
    "\n",
    "* To create a new array with the same shape and type as a given array, NumPy offers the following methods:"
   ]
  },
  {
   "cell_type": "code",
   "execution_count": 15,
   "metadata": {},
   "outputs": [
    {
     "name": "stdout",
     "output_type": "stream",
     "text": [
      "(2, 3)\n",
      "(2, 3)\n",
      "(1, 2, 3)\n",
      "(1, 2, 3)\n",
      "[[[1. 1. 1.]\n",
      "  [1. 1. 1.]]]\n",
      "[[[1. 1. 1.]\n",
      "  [1. 1. 1.]]]\n"
     ]
    }
   ],
   "source": [
    "a = ([1, 2, 3], [4, 5, 6]) # Python list\n",
    "# print(a.shape) ### Tuple has no attribute 'shape'\n",
    "\n",
    "b = np.empty_like(a)\n",
    "# Uninitialized array\n",
    "# array([[-1073741821, -1073741821,           3],\n",
    "#        [          0,           0, -1073741821]])\n",
    "print(b.shape)             # Prints (2, 3)\n",
    "\n",
    "c = np.array([[1., 2., 3.], [4., 5., 6.]])\n",
    "d = np.empty_like(c)\n",
    "# Uninitialized array\n",
    "# array([[ -2.00000715e+000,   1.48219694e-323,  -2.00000572e+000], # uninitialized\n",
    "#        [  4.38791518e-305,  -2.00000715e+000,   4.17269252e-309]])\n",
    "print(d.shape)             # Prints (2, 3)\n",
    "\n",
    "# Note the difference between np.ones() and np.ones_like() below.\n",
    "# np.ones():      Return a new array of given shape and type, filled with ones.\n",
    "# np.ones_like(): Return a new array with the same shape and type as a given array, filled with ones.\n",
    "e = np.ones((1, 2, 3))\n",
    "f = np.ones_like(e)\n",
    "# array([[[ 1.,  1.,  1.],\n",
    "#         [ 1.,  1.,  1.]]])\n",
    "print(e.shape) # Prints (1, 2, 3)\n",
    "print(f.shape) # Prints (1, 2, 3)\n",
    "print(e)\n",
    "print(f)"
   ]
  },
  {
   "cell_type": "markdown",
   "metadata": {},
   "source": [
    "## Indexing\n",
    "NumPy arrays can be indexed by integers, a tuple of nonnegative integers, by booleans or by another array."
   ]
  },
  {
   "cell_type": "markdown",
   "metadata": {},
   "source": [
    "### Integer Indexing\n",
    "To “select” a particular row or column in an array, NumPy offers similar functionality as Python lists:"
   ]
  },
  {
   "cell_type": "code",
   "execution_count": 7,
   "metadata": {},
   "outputs": [
    {
     "data": {
      "text/plain": [
       "(2,)"
      ]
     },
     "execution_count": 7,
     "metadata": {},
     "output_type": "execute_result"
    }
   ],
   "source": [
    "import numpy as np\n",
    "\n",
    "a = np.array([[1, 2], [3, 4]])\n",
    "\n",
    "# Select a row\n",
    "a[0]    # Prints [1 2]\n",
    "a[1]    # Prints [3 4]\n",
    "\n",
    "# # Select a column\n",
    "a[:, 0] # Prints [1 3]\n",
    "a[:, 1] # Prints [2 4]"
   ]
  },
  {
   "cell_type": "markdown",
   "metadata": {},
   "source": [
    "Note that : implies that the entire dimension is selected (as opposed to a particular element or a range of elements within a dimension). Also, if : is the trailing/last element in the index subscript, it can be skipped."
   ]
  },
  {
   "cell_type": "code",
   "execution_count": 17,
   "metadata": {},
   "outputs": [
    {
     "data": {
      "text/plain": [
       "(3,)"
      ]
     },
     "execution_count": 17,
     "metadata": {},
     "output_type": "execute_result"
    }
   ],
   "source": [
    "import numpy as np\n",
    "\n",
    "a = np.ones((1, 2, 3))\n",
    "a\n",
    "\n",
    "# Select the first dimension\n",
    "a[0].shape       # Prints (2, 3)\n",
    "a[0,].shape      # Prints (2, 3)\n",
    "a[0, :].shape    # Prints (2, 3)\n",
    "\n",
    "# Select the second dimension\n",
    "a[0, 1].shape    # Prints (3,)\n",
    "a[0, 1, :].shape # Prints (3,)"
   ]
  },
  {
   "cell_type": "markdown",
   "metadata": {},
   "source": [
    "### Slicing\n",
    "* Similar to Python lists, NumPy arrays can be sliced.\n",
    "* Since arrays may be multidimensional, you must specify a slice for each dimension of the array:"
   ]
  },
  {
   "cell_type": "code",
   "execution_count": 21,
   "metadata": {},
   "outputs": [
    {
     "name": "stdout",
     "output_type": "stream",
     "text": [
      "2\n",
      "2\n",
      "77\n"
     ]
    }
   ],
   "source": [
    "import numpy as np\n",
    "\n",
    "# Define the following rank 2 array with shape (3, 4)\n",
    "# [[ 1  2  3  4]\n",
    "#  [ 5  6  7  8]\n",
    "#  [ 9 10 11 12]]\n",
    "a = np.array([[1, 2, 3, 4], [5, 6, 7, 8], [9, 10, 11, 12]])\n",
    "\n",
    "# Use slicing to pull out the subarray consisting of the first 2 rows\n",
    "# and columns 1 and 2; b is the following array of shape (2, 2):\n",
    "# [[2 3]\n",
    "#  [6 7]]\n",
    "b = a[:2, 1:3] ## Skip row 2 index and column 3 index\n",
    "\n",
    "# A slice of an array is a \"view\" into the same data, so modifying it\n",
    "# will modify the original array\n",
    "print(a[0, 1])    # Prints 2\n",
    "print(a[(0, 1)])  # Also prints 2\n",
    "b[0, 0] = 77      # b[0, 0] is the same piece of data as a[0, 1]\n",
    "print(a[0, 1])    # Prints 77"
   ]
  },
  {
   "cell_type": "markdown",
   "metadata": {},
   "source": [
    "You can also mix integer indexing with slice indexing. However, doing so will yield an array of lower rank than the original array.\n",
    "\n",
    "#### Mixing integer indexing with slices yields an array of lower rank,\n",
    "#### while using only slices yields an array of the same rank as the"
   ]
  },
  {
   "cell_type": "code",
   "execution_count": 22,
   "metadata": {},
   "outputs": [
    {
     "name": "stdout",
     "output_type": "stream",
     "text": [
      "[5 6 7 8] (4,)\n",
      "[[5 6 7 8]] (1, 4)\n",
      "[ 2  6 10] (3,)\n",
      "[[ 2]\n",
      " [ 6]\n",
      " [10]] (3, 1)\n",
      "[[1 3]\n",
      " [5 7]] (2, 2)\n"
     ]
    }
   ],
   "source": [
    "import numpy as np\n",
    "\n",
    "# Define the following rank 2 array with shape (3, 4)\n",
    "# [[ 1  2  3  4]\n",
    "#  [ 5  6  7  8]\n",
    "#  [ 9 10 11 12]]\n",
    "a = np.array([[1, 2, 3, 4], [5, 6, 7, 8], [9, 10, 11, 12]])\n",
    "\n",
    "# Basic slicing\n",
    "a[0:3]                                # Select rows 0, 1 and 2, all columns\n",
    "a[0:2, 1]                             # Select rows 0 and 1, column 1\n",
    "a[:1]                                 # Select row 0, all columns (same as a[0:1, :])\n",
    "a[1:2, :]                             # Select row 1, all columns\n",
    "\n",
    "# Two ways of accessing the data in the middle row of the array.\n",
    "# Mixing integer indexing with slices yields an array of lower rank,\n",
    "# while using only slices yields an array of the same rank as the\n",
    "# original array\n",
    "row_r1 = a[1, :]                      # Rank 1 view of the second row of a\n",
    "row_r2 = a[1:2, :]                    # Rank 2 view of the second row of a\n",
    "print(row_r1, row_r1.shape)           # Prints [5 6 7 8] (4,)\n",
    "print(row_r2, row_r2.shape)           # Prints [[5 6 7 8]] (1, 4)\n",
    "\n",
    "# We can make the same distinction when accessing columns of an array\n",
    "col_r1 = a[:, 1]\n",
    "col_r2 = a[:, 1:2]\n",
    "print(col_r1, col_r1.shape)           # Prints [ 2  6 10] (3,)\n",
    "print(col_r2, col_r2.shape)           # Prints [[ 2]\n",
    "                                      #         [ 6]\n",
    "                                      #         [10]] (3, 1)\n",
    "\n",
    "# Mix row and column slicing to print the first 2 rows and alternate \n",
    "# columns\n",
    "arr_row_col = a[:2, ::2]\n",
    "print(arr_row_col, arr_row_col.shape) # Prints [[1, 3],\n",
    "                                      #         [5, 7]] (2, 2)"
   ]
  },
  {
   "cell_type": "markdown",
   "metadata": {},
   "source": [
    "### Integer Array Indexing\n",
    "* When you index into NumPy arrays using slicing, the resulting array view will always be a subarray of the original array.\n",
    "* In contrast, integer array indexing allows you to construct arbitrary arrays using the data from another array.\n",
    "* Here is an example:"
   ]
  },
  {
   "cell_type": "code",
   "execution_count": 24,
   "metadata": {},
   "outputs": [
    {
     "name": "stdout",
     "output_type": "stream",
     "text": [
      "[1 4 5]\n",
      "[1 4 5]\n",
      "[1 4 5]\n",
      "[2 2]\n",
      "[2 2]\n"
     ]
    }
   ],
   "source": [
    "import numpy as np\n",
    "\n",
    "a = np.array([[1, 2], [3, 4], [5, 6]])\n",
    "\n",
    "# An example of integer array indexing\n",
    "# The returned array has shape (3,)\n",
    "rows = [0, 1, 2]\n",
    "cols = [0, 1, 0]\n",
    "print(a[rows, cols])                         # Prints [1 4 5]\n",
    "\n",
    "# or using direct indexing\n",
    "print(a[[0, 1, 2], [0, 1, 0]])               # Prints [1 4 5]\n",
    "\n",
    "# The above example of integer array indexing is equivalent to \n",
    "# the following:\n",
    "print(np.array([a[0, 0], a[1, 1], a[2, 0]])) # Prints [1 4 5]\n",
    "\n",
    "# Note that this doesn't work and results in\n",
    "# IndexError: too many indices for array: array is 2-dimensional, \n",
    "# but 3 were indexed\n",
    "# print(a[(0, 0), (1, 1), (2, 0)])\n",
    "\n",
    "# When using integer array indexing, you can reuse the same\n",
    "# element from the source array\n",
    "print(a[[0, 0], [1, 1]])                     # Prints [2 2]\n",
    "\n",
    "# Equivalent to the previous integer array indexing example\n",
    "print(np.array([a[0, 1], a[0, 1]]))          # Prints [2 2]"
   ]
  },
  {
   "cell_type": "markdown",
   "metadata": {},
   "source": [
    "You can use np.arange() to select the rows/columns of an array. "
   ]
  },
  {
   "cell_type": "code",
   "execution_count": 25,
   "metadata": {},
   "outputs": [
    {
     "data": {
      "text/plain": [
       "array([[1, 2]])"
      ]
     },
     "execution_count": 25,
     "metadata": {},
     "output_type": "execute_result"
    }
   ],
   "source": [
    "import numpy as np\n",
    "\n",
    "a = np.array([[1, 2], [3, 4]])\n",
    "\n",
    "# Return the entire array\n",
    "a[np.arange(2), :] # Prints [[1 2]\n",
    "                   #         [3 4]]\n",
    "\n",
    "# Return the first row\n",
    "a[np.arange(1), :] # Prints [[1 2]]"
   ]
  },
  {
   "cell_type": "markdown",
   "metadata": {},
   "source": [
    "Along with np.arange(), you can use an “index array” that contains indices of rows or columns to index into another array. This is a very common use-case in NumPy-based projects."
   ]
  },
  {
   "cell_type": "code",
   "execution_count": 26,
   "metadata": {},
   "outputs": [
    {
     "data": {
      "text/plain": [
       "array([[1, 2],\n",
       "       [1, 2]])"
      ]
     },
     "execution_count": 26,
     "metadata": {},
     "output_type": "execute_result"
    }
   ],
   "source": [
    "import numpy as np\n",
    "\n",
    "a = np.array([[1, 2], [3, 4]])\n",
    "\n",
    "# Selecting columns using an index array\n",
    "b = [0, 0]         # Select the first column for both rows (see below)\n",
    "a[np.arange(1), b] # Prints [1 1] (same as a[0, [0, 0]])\n",
    "a[np.arange(2), b] # Prints [1 3] (same as a[[0, 1], [0, 0]])\n",
    "\n",
    "a[:, b]            # Prints [[1 1]\n",
    "                   #         [3 3]]\n",
    "\n",
    "# Selecting rows using an index array\n",
    "b = [0, 0]         # Select the first row for both columns (see below)\n",
    "a[b, np.arange(1)] # Prints [1 1] (same as a[[0, 0], 0])\n",
    "a[b, np.arange(2)] # Prints [1 2] (same as a[[0, 0], [0, 1]])        \n",
    "\n",
    "a[b, :]            # Prints [[1 2]\n",
    "                   #         [1 2]]"
   ]
  },
  {
   "cell_type": "markdown",
   "metadata": {},
   "source": [
    "One useful trick with np.arange() and index array is selecting or mutating one element from each row of a matrix:"
   ]
  },
  {
   "cell_type": "code",
   "execution_count": 28,
   "metadata": {},
   "outputs": [
    {
     "name": "stdout",
     "output_type": "stream",
     "text": [
      "[[ 1  2  3]\n",
      " [ 4  5  6]\n",
      " [ 7  8  9]\n",
      " [10 11 12]]\n",
      "[ 1  6  7 11]\n",
      "[[11  2  3]\n",
      " [ 4  5 16]\n",
      " [17  8  9]\n",
      " [10 21 12]]\n"
     ]
    }
   ],
   "source": [
    "import numpy as np\n",
    "\n",
    "# Define a new array from which we will select elements\n",
    "a = np.array([[1, 2, 3], [4, 5, 6], [7, 8, 9], [10, 11, 12]])\n",
    "\n",
    "print(a)                   # Prints [[ 1  2  3]\n",
    "                           #         [ 4  5  6]\n",
    "                           #         [ 7  8  9]\n",
    "                           #         [10 11 12]]\n",
    "\n",
    "# Define an array of indices\n",
    "b = np.array([0, 2, 0, 1])\n",
    "\n",
    "# Select one element from each row of a using the indices in b\n",
    "print(a[np.arange(4), b])  # Prints [ 1 6 7 11]\n",
    "\n",
    "# Mutate one element from each row of a using the indices in b\n",
    "a[np.arange(4), b] += 10\n",
    "\n",
    "print(a)                   # Prints [[11  2  3]\n",
    "                           #         [ 4  5 16]\n",
    "                           #         [17  8  9]\n",
    "                           #         [10 21 12]]"
   ]
  },
  {
   "cell_type": "markdown",
   "metadata": {},
   "source": [
    "## Boolean Array Indexing\n",
    "* Boolean array indexing lets you pick out arbitrary elements of an array.\n",
    "* This type of indexing is frequently used to select the elements of an array that satisfy some condition.\n",
    "Here is an example:"
   ]
  },
  {
   "cell_type": "code",
   "execution_count": 30,
   "metadata": {},
   "outputs": [
    {
     "name": "stdout",
     "output_type": "stream",
     "text": [
      "[[[1 2]\n",
      "  [3 4]]]\n",
      "[[False False]\n",
      " [ True  True]]\n",
      "[3 4]\n",
      "[3 4]\n"
     ]
    }
   ],
   "source": [
    "import numpy as np\n",
    "\n",
    "a = np.array([[1, 2], [3, 4]])\n",
    "\n",
    "print(a[True])     # Same as print(a), interpreted as a \"True\" mask \n",
    "                   # on each of a's elements\n",
    "                   # Prints [[[1 2]\n",
    "                   #          [3 4]]]\n",
    "\n",
    "bool_idx = (a > 2) # Find the elements of a that are bigger than 2;\n",
    "                   # this returns a NumPy array of Booleans of the same\n",
    "                   # shape as a, where each slot of bool_idx tells\n",
    "                   # whether that element of a is > 2\n",
    "\n",
    "print(bool_idx)    # Prints [[False False]\n",
    "                   #         [ True  True]]\n",
    "\n",
    "# We use boolean array indexing to construct a rank 1 array\n",
    "# consisting of the elements of a corresponding to the True values\n",
    "# of bool_idx\n",
    "print(a[bool_idx]) # Prints [3 4]\n",
    "\n",
    "# We can do all of the above in a single concise statement:\n",
    "print(a[a > 2])    # Prints [3 4]\n"
   ]
  },
  {
   "cell_type": "markdown",
   "metadata": {},
   "source": [
    "As an extension of the above concept, to select elements on an array based on the elements of another array:"
   ]
  },
  {
   "cell_type": "code",
   "execution_count": 31,
   "metadata": {},
   "outputs": [
    {
     "name": "stdout",
     "output_type": "stream",
     "text": [
      "['o' 'o' 'b']\n",
      "['o' 'o' 'b']\n"
     ]
    }
   ],
   "source": [
    "import numpy as np\n",
    "\n",
    "a = np.array([1, 2, 3, 4, 5, 6])\n",
    "b = np.array(['f','o','o','b','a','r'])\n",
    "\n",
    "# Note that & is the bitwise AND operator, and && is not supported in NumPy,\n",
    "# so np.logical_and() is used in the below example\n",
    "print(b[np.logical_and((a > 1), (a < 5))]) # Prints ['o' 'o' 'b']\n",
    "\n",
    "# Another way to accomplish this is using np.all(), \n",
    "# which is explained in the section on \"all\" below.\n",
    "print(b[np.all([a > 1, a < 5], axis=0)])   # Prints ['o' 'o' 'b']"
   ]
  },
  {
   "cell_type": "markdown",
   "metadata": {},
   "source": [
    "## Datatypes\n",
    "* Every NumPy array is a grid of elements of the same type.\n",
    "* NumPy provides a large set of numeric datatypes that you can use to construct arrays.\n",
    "* NumPy tries to guess a datatype when you create an array, but functions that construct arrays usually also include an optional argument to explicitly specify the datatype.\n",
    "As an example:"
   ]
  },
  {
   "cell_type": "code",
   "execution_count": 32,
   "metadata": {},
   "outputs": [
    {
     "name": "stdout",
     "output_type": "stream",
     "text": [
      "int64\n",
      "float64\n",
      "int64\n"
     ]
    }
   ],
   "source": [
    "import numpy as np\n",
    "\n",
    "x = np.array([1, 2])                 # Let NumPy choose the datatype\n",
    "print(x.dtype)                       # Prints int64\n",
    "\n",
    "x = np.array([1.0, 2.0])             # Let NumPy choose the datatype\n",
    "print(x.dtype)                       # Prints float64\n",
    "\n",
    "x = np.array([1, 2], dtype=np.int64) # Force a particular datatype\n",
    "print(x.dtype) "
   ]
  },
  {
   "cell_type": "markdown",
   "metadata": {},
   "source": [
    "Note that with NumPy, the default float datatype is float64 (double precision), while that with PyTorch is float32 (single precision). However, the default int datatype for both NumPy and PyTorch is int64."
   ]
  },
  {
   "cell_type": "markdown",
   "metadata": {},
   "source": [
    "## Changing Datatypes\n",
    "The astype() method of np.ndarray can change the datatype."
   ]
  },
  {
   "cell_type": "code",
   "execution_count": 33,
   "metadata": {},
   "outputs": [
    {
     "name": "stdout",
     "output_type": "stream",
     "text": [
      "[1 2 3]\n",
      "int64\n",
      "[1. 2. 3.]\n",
      "float32\n",
      "[1 2 3]\n",
      "int64\n",
      "['1' '2' '3']\n",
      "<U21\n"
     ]
    }
   ],
   "source": [
    "import numpy as np\n",
    "\n",
    "a = np.array([1, 2, 3])\n",
    "print(a)             # Prints [1 2 3]\n",
    "print(a.dtype)       # Prints int64\n",
    "\n",
    "a_float = a.astype(np.float32)\n",
    "print(a_float)       # Prints [1. 2. 3.]\n",
    "print(a_float.dtype) # Prints float32\n",
    "\n",
    "# 'a' remains unchanged.\n",
    "print(a)              # Prints [1 2 3]\n",
    "print(a.dtype)        # Prints int64\n",
    "\n",
    "a_str = a.astype('str')\n",
    "print(a_str)          # Prints ['1' '2' '3']\n",
    "print(a_str.dtype)    # Prints <U21"
   ]
  }
 ],
 "metadata": {
  "kernelspec": {
   "display_name": "v_env",
   "language": "python",
   "name": "python3"
  },
  "language_info": {
   "codemirror_mode": {
    "name": "ipython",
    "version": 3
   },
   "file_extension": ".py",
   "mimetype": "text/x-python",
   "name": "python",
   "nbconvert_exporter": "python",
   "pygments_lexer": "ipython3",
   "version": "3.11.8"
  }
 },
 "nbformat": 4,
 "nbformat_minor": 2
}

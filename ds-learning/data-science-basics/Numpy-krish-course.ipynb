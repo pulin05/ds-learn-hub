{
 "cells": [
  {
   "cell_type": "markdown",
   "id": "4bfa9153",
   "metadata": {},
   "source": [
    "**Numpy**\n",
    "\n",
    "NumPy is an open source mathematical and scientific computing library for Python programming tasks. The name NumPy is shorthand for Numerical Python. The NumPy library offers a collection of high-level mathematical functions including support for multi-dimensional arrays, masked arrays and matrices. NumPy also includes various logical and mathematical capabilities for those arrays such as shape manipulation, sorting, selection, linear algebra, statistical operations, random number generation and discrete Fourier transforms.\n",
    "\n"
   ]
  },
  {
   "cell_type": "markdown",
   "id": "297d7fda",
   "metadata": {},
   "source": [
    "You might hear of a 0-D (zero-dimensional) array referred to as a “scalar”, a 1-D (one-dimensional) array as a “vector”, a 2-D (two-dimensional) array as a “matrix”, or an N-D (N-dimensional, where “N” is typically an integer greater than 2) array as a “tensor”. For clarity, it is best to avoid the mathematical terms when referring to an array because the mathematical objects with these names behave differently than arrays (e.g. “matrix” multiplication is fundamentally different from “array” multiplication), and there are other objects in the scientific Python ecosystem that have these names (e.g. the fundamental data structure of PyTorch is the “tensor”)."
   ]
  },
  {
   "cell_type": "code",
   "execution_count": 11,
   "id": "f422b17b",
   "metadata": {},
   "outputs": [
    {
     "name": "stdout",
     "output_type": "stream",
     "text": [
      "[1 2 3 4 5]\n",
      "(5,)\n",
      "<class 'numpy.ndarray'>\n"
     ]
    }
   ],
   "source": [
    "import numpy as np\n",
    "\n",
    "\n",
    "### create array using numpy\n",
    "## create a 1D array\n",
    "\n",
    "arr1 = np.array([1,2,3,4,5])\n",
    "print(arr1)\n",
    "print(arr1.shape)\n",
    "print(type(arr1))"
   ]
  },
  {
   "cell_type": "code",
   "execution_count": null,
   "id": "be22158a",
   "metadata": {},
   "outputs": [
    {
     "data": {
      "text/plain": [
       "array([[1, 2, 3, 4, 5]])"
      ]
     },
     "execution_count": 7,
     "metadata": {},
     "output_type": "execute_result"
    }
   ],
   "source": [
    "## 1D array\n",
    "arr2=np.array([1,2,3,4,5])\n",
    "arr2.reshape(1,5) "
   ]
  },
  {
   "cell_type": "code",
   "execution_count": 13,
   "id": "ca608b41",
   "metadata": {},
   "outputs": [
    {
     "data": {
      "text/plain": [
       "(2, 5)"
      ]
     },
     "execution_count": 13,
     "metadata": {},
     "output_type": "execute_result"
    }
   ],
   "source": [
    "## 2D array\n",
    "arr2=np.array([[1, 2, 3, 4, 5],[2,7,3,4,5]])\n",
    "arr2.shape"
   ]
  },
  {
   "cell_type": "code",
   "execution_count": 15,
   "id": "c1e323a2",
   "metadata": {},
   "outputs": [
    {
     "data": {
      "text/plain": [
       "array([[0],\n",
       "       [2],\n",
       "       [4],\n",
       "       [6],\n",
       "       [8]])"
      ]
     },
     "execution_count": 15,
     "metadata": {},
     "output_type": "execute_result"
    }
   ],
   "source": [
    "np.arange(0,10,2).reshape(5,1)"
   ]
  },
  {
   "cell_type": "markdown",
   "id": "ada8e54b",
   "metadata": {},
   "source": [
    "It is familiar practice in mathematics to refer to elements of a matrix by the row index first and the column index second. This happens to be true for two-dimensional arrays, but a better mental model is to think of the column index as coming last and the row index as second to last. This generalizes to arrays with any number of dimensions."
   ]
  },
  {
   "cell_type": "code",
   "execution_count": 17,
   "id": "f374e2d9",
   "metadata": {},
   "outputs": [
    {
     "data": {
      "text/plain": [
       "array([[1., 1., 1., 1.],\n",
       "       [1., 1., 1., 1.],\n",
       "       [1., 1., 1., 1.]])"
      ]
     },
     "execution_count": 17,
     "metadata": {},
     "output_type": "execute_result"
    }
   ],
   "source": [
    "np.ones((3,4))"
   ]
  },
  {
   "cell_type": "code",
   "execution_count": 18,
   "id": "669ed336",
   "metadata": {},
   "outputs": [
    {
     "data": {
      "text/plain": [
       "array([[1., 0., 0.],\n",
       "       [0., 1., 0.],\n",
       "       [0., 0., 1.]])"
      ]
     },
     "execution_count": 18,
     "metadata": {},
     "output_type": "execute_result"
    }
   ],
   "source": [
    "## identity matrix\n",
    "np.eye(3)"
   ]
  },
  {
   "cell_type": "code",
   "execution_count": 22,
   "id": "fd2dec74",
   "metadata": {},
   "outputs": [
    {
     "name": "stdout",
     "output_type": "stream",
     "text": [
      "Array:\n",
      " [[1 2 3 4 5]\n",
      " [9 5 7 9 2]]\n",
      "Shape: (2, 5)\n",
      "Nbr of dimensions: 2\n",
      "Size (nbr of elements): 10\n",
      "Data type: int64\n",
      "Item size (in bytes): 8\n"
     ]
    }
   ],
   "source": [
    "arr = np.array([[1,2,3,4,5],[9,5,7,9,2]])\n",
    "\n",
    "print(\"Array:\\n\" , arr)\n",
    "print(\"Shape:\" , arr.shape)\n",
    "print(\"Nbr of dimensions:\" , arr.ndim)\n",
    "print(\"Size (nbr of elements):\" , arr.size)\n",
    "print(\"Data type:\" , arr.dtype)\n",
    "print(\"Item size (in bytes):\" , arr.itemsize)\n"
   ]
  },
  {
   "cell_type": "code",
   "execution_count": 25,
   "id": "988d8176",
   "metadata": {},
   "outputs": [
    {
     "name": "stdout",
     "output_type": "stream",
     "text": [
      "Addition: [ 3  5  7  9 12]\n",
      "Substraction: [-1 -1 -1 -1 -2]\n",
      "Multiplication: [ 2  6 12 20 35]\n",
      "Division: [0.5        0.66666667 0.75       0.8        0.71428571]\n"
     ]
    }
   ],
   "source": [
    "## Numpy vectorised operation\n",
    "\n",
    "arr1=np.array([1,2,3,4,5])\n",
    "arr2=np.array([2,3,4,5,7])\n",
    "\n",
    "### Element wise addition\n",
    "print(\"Addition:\" , arr1+arr2)\n",
    "\n",
    "### Element wise substraction\n",
    "print(\"Substraction:\" , arr1-arr2)\n",
    "\n",
    "### Element wise Multiplication\n",
    "print(\"Multiplication:\" , arr1*arr2)\n",
    "\n",
    "### Multiplication wise division\n",
    "print(\"Division:\" , arr1/arr2)"
   ]
  },
  {
   "cell_type": "code",
   "execution_count": 29,
   "id": "69546d95",
   "metadata": {},
   "outputs": [
    {
     "name": "stdout",
     "output_type": "stream",
     "text": [
      "[1.41421356 1.73205081 2.         2.23606798 2.44948974]\n",
      "[  7.3890561   20.08553692  54.59815003 148.4131591  403.42879349]\n",
      "[ 0.90929743  0.14112001 -0.7568025  -0.95892427 -0.2794155 ]\n",
      "[0.69314718 1.09861229 1.38629436 1.60943791 1.79175947]\n"
     ]
    }
   ],
   "source": [
    "## Universal function\n",
    "arr=np.array([2,3,4,5,6])\n",
    "\n",
    "#square root\n",
    "print(np.sqrt(arr))\n",
    "\n",
    "## Exponential\n",
    "print(np.exp(arr))\n",
    "\n",
    "## Sine\n",
    "print(np.sin(arr))\n",
    "\n",
    "## log\n",
    "print(np.log(arr))"
   ]
  },
  {
   "cell_type": "code",
   "execution_count": 32,
   "id": "399dacf9",
   "metadata": {},
   "outputs": [
    {
     "name": "stdout",
     "output_type": "stream",
     "text": [
      "Array: \n",
      " [[1 2 3 4]\n",
      " [8 3 4 5]\n",
      " [9 3 6 7]]\n"
     ]
    }
   ],
   "source": [
    "## Array Slicing \n",
    "arr = np.array([[1,2,3,4],[8,3,4,5],[9,3,6,7]])\n",
    "print(\"Array: \\n\", arr)"
   ]
  },
  {
   "cell_type": "code",
   "execution_count": 35,
   "id": "f3ac8791",
   "metadata": {},
   "outputs": [
    {
     "data": {
      "text/plain": [
       "1"
      ]
     },
     "execution_count": 35,
     "metadata": {},
     "output_type": "execute_result"
    }
   ],
   "source": [
    "arr[0][0]"
   ]
  },
  {
   "cell_type": "code",
   "execution_count": 36,
   "id": "73d909d9",
   "metadata": {},
   "outputs": [
    {
     "data": {
      "text/plain": [
       "array([[4, 5],\n",
       "       [6, 7]])"
      ]
     },
     "execution_count": 36,
     "metadata": {},
     "output_type": "execute_result"
    }
   ],
   "source": [
    "arr[1:,2:]"
   ]
  },
  {
   "cell_type": "code",
   "execution_count": 39,
   "id": "b4c84089",
   "metadata": {},
   "outputs": [
    {
     "data": {
      "text/plain": [
       "array([[3, 4],\n",
       "       [4, 5]])"
      ]
     },
     "execution_count": 39,
     "metadata": {},
     "output_type": "execute_result"
    }
   ],
   "source": [
    "arr[:2,2:]"
   ]
  },
  {
   "cell_type": "code",
   "execution_count": 40,
   "id": "a1a8e55e",
   "metadata": {},
   "outputs": [
    {
     "name": "stdout",
     "output_type": "stream",
     "text": [
      "[[100   2   3   4]\n",
      " [  8   3   4   5]\n",
      " [  9   3   6   7]]\n"
     ]
    }
   ],
   "source": [
    "## Modify array elements\n",
    "\n",
    "arr[0,0]=100\n",
    "print(arr)"
   ]
  },
  {
   "cell_type": "code",
   "execution_count": 8,
   "id": "a540e788",
   "metadata": {},
   "outputs": [
    {
     "name": "stdout",
     "output_type": "stream",
     "text": [
      "1.4142135623730951\n",
      "Normalized data: [-1.41421356 -0.70710678  0.          0.70710678  1.41421356]\n"
     ]
    }
   ],
   "source": [
    "## Statistical Concept- Normalization\n",
    "## to have a mean of 0 and SD of 1\n",
    "\n",
    "data = np.array([1,2,3,4,5])\n",
    "\n",
    "# Calculate the mean and standard deviation\n",
    "mean = np.mean(data)\n",
    "std_dev = np.std(data)\n",
    "print(std_dev)\n",
    "\n",
    "## Normalize the data\n",
    "normalized_data = (data - mean) / std_dev\n",
    "print(\"Normalized data:\", normalized_data)"
   ]
  },
  {
   "cell_type": "code",
   "execution_count": 9,
   "id": "9558ac7d",
   "metadata": {},
   "outputs": [
    {
     "name": "stdout",
     "output_type": "stream",
     "text": [
      "mean: 3.0\n",
      "median: 3.0\n",
      "std: 1.4142135623730951\n",
      "var: 2.0\n"
     ]
    }
   ],
   "source": [
    "\n",
    "data = np.array([1,2,3,4,5])\n",
    "\n",
    "## Mean\n",
    "mean = np.mean(data)\n",
    "print(\"mean:\", mean)\n",
    "## Median\n",
    "median = np.median(data)\n",
    "print(\"median:\", median)\n",
    "## Standard deviation\n",
    "std = np.std(data)\n",
    "print(\"std:\", std)\n",
    "## Variance\n",
    "var = np.var(data)\n",
    "print(\"var:\", var)\n"
   ]
  },
  {
   "cell_type": "code",
   "execution_count": 14,
   "id": "9602b300",
   "metadata": {},
   "outputs": [
    {
     "data": {
      "text/plain": [
       "array([5, 6, 7])"
      ]
     },
     "execution_count": 14,
     "metadata": {},
     "output_type": "execute_result"
    }
   ],
   "source": [
    "## logical operation\n",
    "data = np.array([1,2,3,4,5,6,7,8,9,10])\n",
    "\n",
    "data[(data>=5) & (data<8) ]"
   ]
  },
  {
   "cell_type": "code",
   "execution_count": null,
   "id": "69b4c153",
   "metadata": {},
   "outputs": [],
   "source": []
  }
 ],
 "metadata": {
  "kernelspec": {
   "display_name": "v_env",
   "language": "python",
   "name": "python3"
  },
  "language_info": {
   "codemirror_mode": {
    "name": "ipython",
    "version": 3
   },
   "file_extension": ".py",
   "mimetype": "text/x-python",
   "name": "python",
   "nbconvert_exporter": "python",
   "pygments_lexer": "ipython3",
   "version": "3.11.8"
  }
 },
 "nbformat": 4,
 "nbformat_minor": 5
}
